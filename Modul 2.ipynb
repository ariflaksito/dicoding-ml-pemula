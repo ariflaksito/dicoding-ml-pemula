{
 "cells": [
  {
   "cell_type": "markdown",
   "metadata": {
    "colab_type": "text",
    "id": "dhtavQ_aOgmo"
   },
   "source": [
    "# **Linear Regression**"
   ]
  },
  {
   "cell_type": "code",
   "execution_count": 11,
   "metadata": {
    "colab": {},
    "colab_type": "code",
    "id": "LudYhBc7YTYr"
   },
   "outputs": [],
   "source": [
    "import numpy as np\n",
    "import matplotlib.pyplot as plt\n",
    "\n",
    "#buat data jumlah kamar\n",
    "bedrooms = np.array([1,1,2,2,3,4,4,5,5,5])\n",
    "\n",
    "#data harga rummah. asumsi dalam dollar\n",
    "house_price = np.array([15000, 18000, 27000, 34000, 50000, 68000, 65000, 81000,85000, 90000])"
   ]
  },
  {
   "cell_type": "code",
   "execution_count": 12,
   "metadata": {
    "colab": {
     "base_uri": "https://localhost:8080/",
     "height": 284
    },
    "colab_type": "code",
    "executionInfo": {
     "elapsed": 2231,
     "status": "ok",
     "timestamp": 1588258766773,
     "user": {
      "displayName": "Gheddi Vijaya",
      "photoUrl": "https://lh3.googleusercontent.com/a-/AOh14Ghol2S8hLLFCaJp9Sze6Xt0m9XCPHLul0f2RCj6QA=s64",
      "userId": "03484244877720654631"
     },
     "user_tz": -420
    },
    "id": "cWPShOgtgNPi",
    "outputId": "c69ca3db-f5bd-4344-92f0-5cc0958367cc"
   },
   "outputs": [
    {
     "data": {
      "text/plain": [
       "<matplotlib.collections.PathCollection at 0x18f8ff805c8>"
      ]
     },
     "execution_count": 12,
     "metadata": {},
     "output_type": "execute_result"
    },
    {
     "data": {
      "image/png": "[encoded data removed]",
      "text/plain": [
       "<Figure size 432x288 with 1 Axes>"
      ]
     },
     "metadata": {
      "needs_background": "light"
     },
     "output_type": "display_data"
    }
   ],
   "source": [
    "# menampilkan scatter plot dari dataset\n",
    "%matplotlib inline\n",
    "plt.scatter(bedrooms, house_price)"
   ]
  },
  {
   "cell_type": "code",
   "execution_count": 13,
   "metadata": {
    "colab": {
     "base_uri": "https://localhost:8080/",
     "height": 56
    },
    "colab_type": "code",
    "executionInfo": {
     "elapsed": 3321,
     "status": "ok",
     "timestamp": 1588258838696,
     "user": {
      "displayName": "Gheddi Vijaya",
      "photoUrl": "https://lh3.googleusercontent.com/a-/AOh14Ghol2S8hLLFCaJp9Sze6Xt0m9XCPHLul0f2RCj6QA=s64",
      "userId": "03484244877720654631"
     },
     "user_tz": -420
    },
    "id": "GqDo5RS8gWH2",
    "outputId": "620b703e-6ce8-4e57-e69a-f5b76f80001b"
   },
   "outputs": [
    {
     "data": {
      "text/plain": [
       "LinearRegression(copy_X=True, fit_intercept=True, n_jobs=None, normalize=False)"
      ]
     },
     "execution_count": 13,
     "metadata": {},
     "output_type": "execute_result"
    }
   ],
   "source": [
    "from sklearn.linear_model import LinearRegression\n",
    "\n",
    "bedrooms = bedrooms.reshape(-1, 1)\n",
    "\n",
    "linreg = LinearRegression()\n",
    "linreg.fit(bedrooms, house_price)"
   ]
  },
  {
   "cell_type": "code",
   "execution_count": 14,
   "metadata": {
    "colab": {
     "base_uri": "https://localhost:8080/",
     "height": 284
    },
    "colab_type": "code",
    "executionInfo": {
     "elapsed": 3455,
     "status": "ok",
     "timestamp": 1588258844752,
     "user": {
      "displayName": "Gheddi Vijaya",
      "photoUrl": "https://lh3.googleusercontent.com/a-/AOh14Ghol2S8hLLFCaJp9Sze6Xt0m9XCPHLul0f2RCj6QA=s64",
      "userId": "03484244877720654631"
     },
     "user_tz": -420
    },
    "id": "pHgz2WX0giFE",
    "outputId": "ebd8e137-783e-4c4f-c07b-87cb66c75336"
   },
   "outputs": [
    {
     "data": {
      "text/plain": [
       "[<matplotlib.lines.Line2D at 0x18f9001da08>]"
      ]
     },
     "execution_count": 14,
     "metadata": {},
     "output_type": "execute_result"
    },
    {
     "data": {
      "image/png": "[encoded data removed]",
      "text/plain": [
       "<Figure size 432x288 with 1 Axes>"
      ]
     },
     "metadata": {
      "needs_background": "light"
     },
     "output_type": "display_data"
    }
   ],
   "source": [
    "plt.scatter(bedrooms, house_price)\n",
    "plt.plot(bedrooms, linreg.predict(bedrooms))"
   ]
  },
  {
   "cell_type": "markdown",
   "metadata": {
    "colab_type": "text",
    "id": "NVX8d9erYMHF"
   },
   "source": [
    "# **Decision tree**"
   ]
  },
  {
   "cell_type": "code",
   "execution_count": 31,
   "metadata": {
    "colab": {},
    "colab_type": "code",
    "id": "veyH2HF2OrX6"
   },
   "outputs": [],
   "source": [
    "from sklearn.tree import DecisionTreeClassifier\n",
    "import pandas as pd\n",
    "from sklearn.datasets import load_iris\n",
    "\n",
    "iris = pd.read_csv('Iris.csv')"
   ]
  },
  {
   "cell_type": "code",
   "execution_count": 32,
   "metadata": {
    "colab": {
     "base_uri": "https://localhost:8080/",
     "height": 204
    },
    "colab_type": "code",
    "executionInfo": {
     "elapsed": 883,
     "status": "ok",
     "timestamp": 1588260718112,
     "user": {
      "displayName": "Buchori Rafsanjani",
      "photoUrl": "https://lh3.googleusercontent.com/a-/AOh14Ghcz8dPafD-2V-RuyCjL1X6vni0dnE9cBVzYYnu=s64",
      "userId": "03014756795319268358"
     },
     "user_tz": -420
    },
    "id": "KjVd_cL3RhW2",
    "outputId": "cdb1b5b6-544c-406f-aade-15d632516943"
   },
   "outputs": [
    {
     "data": {
      "text/html": [
       "<div>\n",
       "<style scoped>\n",
       "    .dataframe tbody tr th:only-of-type {\n",
       "        vertical-align: middle;\n",
       "    }\n",
       "\n",
       "    .dataframe tbody tr th {\n",
       "        vertical-align: top;\n",
       "    }\n",
       "\n",
       "    .dataframe thead th {\n",
       "        text-align: right;\n",
       "    }\n",
       "</style>\n",
       "<table border=\"1\" class=\"dataframe\">\n",
       "  <thead>\n",
       "    <tr style=\"text-align: right;\">\n",
       "      <th></th>\n",
       "      <th>Id</th>\n",
       "      <th>SepalLengthCm</th>\n",
       "      <th>SepalWidthCm</th>\n",
       "      <th>PetalLengthCm</th>\n",
       "      <th>PetalWidthCm</th>\n",
       "      <th>Species</th>\n",
       "    </tr>\n",
       "  </thead>\n",
       "  <tbody>\n",
       "    <tr>\n",
       "      <th>0</th>\n",
       "      <td>1</td>\n",
       "      <td>5.1</td>\n",
       "      <td>3.5</td>\n",
       "      <td>1.4</td>\n",
       "      <td>0.2</td>\n",
       "      <td>Iris-setosa</td>\n",
       "    </tr>\n",
       "    <tr>\n",
       "      <th>1</th>\n",
       "      <td>2</td>\n",
       "      <td>4.9</td>\n",
       "      <td>3.0</td>\n",
       "      <td>1.4</td>\n",
       "      <td>0.2</td>\n",
       "      <td>Iris-setosa</td>\n",
       "    </tr>\n",
       "    <tr>\n",
       "      <th>2</th>\n",
       "      <td>3</td>\n",
       "      <td>4.7</td>\n",
       "      <td>3.2</td>\n",
       "      <td>1.3</td>\n",
       "      <td>0.2</td>\n",
       "      <td>Iris-setosa</td>\n",
       "    </tr>\n",
       "    <tr>\n",
       "      <th>3</th>\n",
       "      <td>4</td>\n",
       "      <td>4.6</td>\n",
       "      <td>3.1</td>\n",
       "      <td>1.5</td>\n",
       "      <td>0.2</td>\n",
       "      <td>Iris-setosa</td>\n",
       "    </tr>\n",
       "    <tr>\n",
       "      <th>4</th>\n",
       "      <td>5</td>\n",
       "      <td>5.0</td>\n",
       "      <td>3.6</td>\n",
       "      <td>1.4</td>\n",
       "      <td>0.2</td>\n",
       "      <td>Iris-setosa</td>\n",
       "    </tr>\n",
       "  </tbody>\n",
       "</table>\n",
       "</div>"
      ],
      "text/plain": [
       "   Id  SepalLengthCm  SepalWidthCm  PetalLengthCm  PetalWidthCm      Species\n",
       "0   1            5.1           3.5            1.4           0.2  Iris-setosa\n",
       "1   2            4.9           3.0            1.4           0.2  Iris-setosa\n",
       "2   3            4.7           3.2            1.3           0.2  Iris-setosa\n",
       "3   4            4.6           3.1            1.5           0.2  Iris-setosa\n",
       "4   5            5.0           3.6            1.4           0.2  Iris-setosa"
      ]
     },
     "execution_count": 32,
     "metadata": {},
     "output_type": "execute_result"
    }
   ],
   "source": [
    "iris.head()"
   ]
  },
  {
   "cell_type": "code",
   "execution_count": 33,
   "metadata": {
    "colab": {},
    "colab_type": "code",
    "id": "Ts5QuACrQvff"
   },
   "outputs": [],
   "source": [
    "iris.drop('Id',axis=1,inplace=True)"
   ]
  },
  {
   "cell_type": "code",
   "execution_count": 34,
   "metadata": {
    "colab": {},
    "colab_type": "code",
    "id": "SSuM2IzzQz92"
   },
   "outputs": [],
   "source": [
    "X = iris[['SepalLengthCm', 'SepalWidthCm', 'PetalLengthCm', 'PetalWidthCm' ]]\n",
    "y = iris['Species']"
   ]
  },
  {
   "cell_type": "code",
   "execution_count": 35,
   "metadata": {
    "colab": {
     "base_uri": "https://localhost:8080/",
     "height": 119
    },
    "colab_type": "code",
    "executionInfo": {
     "elapsed": 874,
     "status": "ok",
     "timestamp": 1588260723669,
     "user": {
      "displayName": "Buchori Rafsanjani",
      "photoUrl": "https://lh3.googleusercontent.com/a-/AOh14Ghcz8dPafD-2V-RuyCjL1X6vni0dnE9cBVzYYnu=s64",
      "userId": "03014756795319268358"
     },
     "user_tz": -420
    },
    "id": "d484DsXfPwPU",
    "outputId": "bf0ac49d-0466-40e2-e955-517cc06b9990"
   },
   "outputs": [
    {
     "data": {
      "text/plain": [
       "DecisionTreeClassifier(ccp_alpha=0.0, class_weight=None, criterion='gini',\n",
       "                       max_depth=None, max_features=None, max_leaf_nodes=None,\n",
       "                       min_impurity_decrease=0.0, min_impurity_split=None,\n",
       "                       min_samples_leaf=1, min_samples_split=2,\n",
       "                       min_weight_fraction_leaf=0.0, presort='deprecated',\n",
       "                       random_state=None, splitter='best')"
      ]
     },
     "execution_count": 35,
     "metadata": {},
     "output_type": "execute_result"
    }
   ],
   "source": [
    "# membuat model Decision Tree\n",
    "tree_model = DecisionTreeClassifier() \n",
    "\n",
    "# melakukan pelatihan model terhadap data\n",
    "tree_model.fit(X, y)"
   ]
  },
  {
   "cell_type": "code",
   "execution_count": 36,
   "metadata": {
    "colab": {
     "base_uri": "https://localhost:8080/",
     "height": 34
    },
    "colab_type": "code",
    "executionInfo": {
     "elapsed": 992,
     "status": "ok",
     "timestamp": 1588260726675,
     "user": {
      "displayName": "Buchori Rafsanjani",
      "photoUrl": "https://lh3.googleusercontent.com/a-/AOh14Ghcz8dPafD-2V-RuyCjL1X6vni0dnE9cBVzYYnu=s64",
      "userId": "03014756795319268358"
     },
     "user_tz": -420
    },
    "id": "sJ3V521yP0qb",
    "outputId": "17900d57-033e-47dd-cf87-18a3a8186979"
   },
   "outputs": [
    {
     "data": {
      "text/plain": [
       "array(['Iris-virginica'], dtype=object)"
      ]
     },
     "execution_count": 36,
     "metadata": {},
     "output_type": "execute_result"
    }
   ],
   "source": [
    "# tree_model.predict([[SepalLength, SepalWidth, PetalLength, PetalWidth]])\n",
    "tree_model.predict([[6.2, 3.4, 5.4, 2.3]])"
   ]
  },
  {
   "cell_type": "code",
   "execution_count": 37,
   "metadata": {
    "colab": {
     "base_uri": "https://localhost:8080/",
     "height": 34
    },
    "colab_type": "code",
    "executionInfo": {
     "elapsed": 1026,
     "status": "ok",
     "timestamp": 1588260728763,
     "user": {
      "displayName": "Buchori Rafsanjani",
      "photoUrl": "https://lh3.googleusercontent.com/a-/AOh14Ghcz8dPafD-2V-RuyCjL1X6vni0dnE9cBVzYYnu=s64",
      "userId": "03014756795319268358"
     },
     "user_tz": -420
    },
    "id": "--gUvxUSLJFz",
    "outputId": "61f4cdeb-3a21-401e-f000-083703eefe53"
   },
   "outputs": [
    {
     "name": "stdout",
     "output_type": "stream",
     "text": [
      "Index(['SepalLengthCm', 'SepalWidthCm', 'PetalLengthCm', 'PetalWidthCm'], dtype='object')\n"
     ]
    }
   ],
   "source": [
    "print(X.columns)"
   ]
  },
  {
   "cell_type": "code",
   "execution_count": 38,
   "metadata": {
    "colab": {},
    "colab_type": "code",
    "id": "YsX4D34sKell"
   },
   "outputs": [],
   "source": [
    "from sklearn.tree import export_graphviz\n",
    "export_graphviz(\n",
    "    tree_model,\n",
    "    out_file = \"iris_tree.dot\",\n",
    "    feature_names = ['SepalLengthCm', 'SepalWidthCm', 'PetalLengthCm', 'PetalWidthCm'],\n",
    "    class_names = ['Iris-setosa', 'Iris-versicolor', 'Iris-virginica' ],\n",
    "    rounded= True,\n",
    "    filled =True\n",
    ")"
   ]
  },
  {
   "cell_type": "markdown",
   "metadata": {
    "colab_type": "text",
    "id": "yl_jmR4RN3JC"
   },
   "source": [
    "## **Logistic regression**"
   ]
  },
  {
   "cell_type": "code",
   "execution_count": 16,
   "metadata": {
    "colab": {
     "base_uri": "https://localhost:8080/",
     "height": 408
    },
    "colab_type": "code",
    "executionInfo": {
     "elapsed": 898,
     "status": "error",
     "timestamp": 1588261298435,
     "user": {
      "displayName": "Buchori Rafsanjani",
      "photoUrl": "https://lh3.googleusercontent.com/a-/AOh14Ghcz8dPafD-2V-RuyCjL1X6vni0dnE9cBVzYYnu=s64",
      "userId": "03014756795319268358"
     },
     "user_tz": -420
    },
    "id": "f9k9gJpYN1hM",
    "outputId": "16f223a7-9e5e-439b-e0cc-e4b318cf3406"
   },
   "outputs": [],
   "source": [
    "import pandas as pd\n",
    "from sklearn.model_selection import train_test_split\n",
    "from sklearn.preprocessing import StandardScaler\n",
    "\n",
    "df = pd.read_csv('Social_Network_Ads.csv')"
   ]
  },
  {
   "cell_type": "code",
   "execution_count": 17,
   "metadata": {
    "colab": {
     "base_uri": "https://localhost:8080/",
     "height": 216
    },
    "colab_type": "code",
    "executionInfo": {
     "elapsed": 1131,
     "status": "ok",
     "timestamp": 1588143526192,
     "user": {
      "displayName": "Gheddi Vijaya",
      "photoUrl": "https://lh3.googleusercontent.com/a-/AOh14Ghol2S8hLLFCaJp9Sze6Xt0m9XCPHLul0f2RCj6QA=s64",
      "userId": "03484244877720654631"
     },
     "user_tz": -420
    },
    "id": "5slojIxtr6cE",
    "outputId": "9840360f-3e74-4efe-9138-f95df6693ca6"
   },
   "outputs": [
    {
     "data": {
      "text/html": [
       "<div>\n",
       "<style scoped>\n",
       "    .dataframe tbody tr th:only-of-type {\n",
       "        vertical-align: middle;\n",
       "    }\n",
       "\n",
       "    .dataframe tbody tr th {\n",
       "        vertical-align: top;\n",
       "    }\n",
       "\n",
       "    .dataframe thead th {\n",
       "        text-align: right;\n",
       "    }\n",
       "</style>\n",
       "<table border=\"1\" class=\"dataframe\">\n",
       "  <thead>\n",
       "    <tr style=\"text-align: right;\">\n",
       "      <th></th>\n",
       "      <th>User ID</th>\n",
       "      <th>Gender</th>\n",
       "      <th>Age</th>\n",
       "      <th>EstimatedSalary</th>\n",
       "      <th>Purchased</th>\n",
       "    </tr>\n",
       "  </thead>\n",
       "  <tbody>\n",
       "    <tr>\n",
       "      <th>0</th>\n",
       "      <td>15624510</td>\n",
       "      <td>Male</td>\n",
       "      <td>19</td>\n",
       "      <td>19000</td>\n",
       "      <td>0</td>\n",
       "    </tr>\n",
       "    <tr>\n",
       "      <th>1</th>\n",
       "      <td>15810944</td>\n",
       "      <td>Male</td>\n",
       "      <td>35</td>\n",
       "      <td>20000</td>\n",
       "      <td>0</td>\n",
       "    </tr>\n",
       "    <tr>\n",
       "      <th>2</th>\n",
       "      <td>15668575</td>\n",
       "      <td>Female</td>\n",
       "      <td>26</td>\n",
       "      <td>43000</td>\n",
       "      <td>0</td>\n",
       "    </tr>\n",
       "    <tr>\n",
       "      <th>3</th>\n",
       "      <td>15603246</td>\n",
       "      <td>Female</td>\n",
       "      <td>27</td>\n",
       "      <td>57000</td>\n",
       "      <td>0</td>\n",
       "    </tr>\n",
       "    <tr>\n",
       "      <th>4</th>\n",
       "      <td>15804002</td>\n",
       "      <td>Male</td>\n",
       "      <td>19</td>\n",
       "      <td>76000</td>\n",
       "      <td>0</td>\n",
       "    </tr>\n",
       "  </tbody>\n",
       "</table>\n",
       "</div>"
      ],
      "text/plain": [
       "    User ID  Gender  Age  EstimatedSalary  Purchased\n",
       "0  15624510    Male   19            19000          0\n",
       "1  15810944    Male   35            20000          0\n",
       "2  15668575  Female   26            43000          0\n",
       "3  15603246  Female   27            57000          0\n",
       "4  15804002    Male   19            76000          0"
      ]
     },
     "execution_count": 17,
     "metadata": {},
     "output_type": "execute_result"
    }
   ],
   "source": [
    "df.head()"
   ]
  },
  {
   "cell_type": "code",
   "execution_count": 18,
   "metadata": {
    "colab": {
     "base_uri": "https://localhost:8080/",
     "height": 245
    },
    "colab_type": "code",
    "executionInfo": {
     "elapsed": 743,
     "status": "ok",
     "timestamp": 1588143527520,
     "user": {
      "displayName": "Gheddi Vijaya",
      "photoUrl": "https://lh3.googleusercontent.com/a-/AOh14Ghol2S8hLLFCaJp9Sze6Xt0m9XCPHLul0f2RCj6QA=s64",
      "userId": "03484244877720654631"
     },
     "user_tz": -420
    },
    "id": "Gjjbbm9Yr8mR",
    "outputId": "47451794-5a85-4d19-a24e-a1e67b1bf43c"
   },
   "outputs": [
    {
     "name": "stdout",
     "output_type": "stream",
     "text": [
      "<class 'pandas.core.frame.DataFrame'>\n",
      "RangeIndex: 400 entries, 0 to 399\n",
      "Data columns (total 5 columns):\n",
      " #   Column           Non-Null Count  Dtype \n",
      "---  ------           --------------  ----- \n",
      " 0   User ID          400 non-null    int64 \n",
      " 1   Gender           400 non-null    object\n",
      " 2   Age              400 non-null    int64 \n",
      " 3   EstimatedSalary  400 non-null    int64 \n",
      " 4   Purchased        400 non-null    int64 \n",
      "dtypes: int64(4), object(1)\n",
      "memory usage: 15.8+ KB\n"
     ]
    }
   ],
   "source": [
    "df.info()"
   ]
  },
  {
   "cell_type": "code",
   "execution_count": 19,
   "metadata": {
    "colab": {},
    "colab_type": "code",
    "id": "vJWcR_V-sAAg"
   },
   "outputs": [],
   "source": [
    "data = df.drop(columns=['User ID'])"
   ]
  },
  {
   "cell_type": "code",
   "execution_count": 20,
   "metadata": {
    "colab": {
     "base_uri": "https://localhost:8080/",
     "height": 445
    },
    "colab_type": "code",
    "executionInfo": {
     "elapsed": 1282,
     "status": "ok",
     "timestamp": 1588143998286,
     "user": {
      "displayName": "Gheddi Vijaya",
      "photoUrl": "https://lh3.googleusercontent.com/a-/AOh14Ghol2S8hLLFCaJp9Sze6Xt0m9XCPHLul0f2RCj6QA=s64",
      "userId": "03484244877720654631"
     },
     "user_tz": -420
    },
    "id": "QXKhpz5RtXJ2",
    "outputId": "32dbb819-0907-402e-cfd1-f5d12fce89f0"
   },
   "outputs": [
    {
     "data": {
      "text/html": [
       "<div>\n",
       "<style scoped>\n",
       "    .dataframe tbody tr th:only-of-type {\n",
       "        vertical-align: middle;\n",
       "    }\n",
       "\n",
       "    .dataframe tbody tr th {\n",
       "        vertical-align: top;\n",
       "    }\n",
       "\n",
       "    .dataframe thead th {\n",
       "        text-align: right;\n",
       "    }\n",
       "</style>\n",
       "<table border=\"1\" class=\"dataframe\">\n",
       "  <thead>\n",
       "    <tr style=\"text-align: right;\">\n",
       "      <th></th>\n",
       "      <th>Age</th>\n",
       "      <th>EstimatedSalary</th>\n",
       "      <th>Purchased</th>\n",
       "      <th>Gender_Female</th>\n",
       "      <th>Gender_Male</th>\n",
       "    </tr>\n",
       "  </thead>\n",
       "  <tbody>\n",
       "    <tr>\n",
       "      <th>0</th>\n",
       "      <td>19</td>\n",
       "      <td>19000</td>\n",
       "      <td>0</td>\n",
       "      <td>0</td>\n",
       "      <td>1</td>\n",
       "    </tr>\n",
       "    <tr>\n",
       "      <th>1</th>\n",
       "      <td>35</td>\n",
       "      <td>20000</td>\n",
       "      <td>0</td>\n",
       "      <td>0</td>\n",
       "      <td>1</td>\n",
       "    </tr>\n",
       "    <tr>\n",
       "      <th>2</th>\n",
       "      <td>26</td>\n",
       "      <td>43000</td>\n",
       "      <td>0</td>\n",
       "      <td>1</td>\n",
       "      <td>0</td>\n",
       "    </tr>\n",
       "    <tr>\n",
       "      <th>3</th>\n",
       "      <td>27</td>\n",
       "      <td>57000</td>\n",
       "      <td>0</td>\n",
       "      <td>1</td>\n",
       "      <td>0</td>\n",
       "    </tr>\n",
       "    <tr>\n",
       "      <th>4</th>\n",
       "      <td>19</td>\n",
       "      <td>76000</td>\n",
       "      <td>0</td>\n",
       "      <td>0</td>\n",
       "      <td>1</td>\n",
       "    </tr>\n",
       "    <tr>\n",
       "      <th>...</th>\n",
       "      <td>...</td>\n",
       "      <td>...</td>\n",
       "      <td>...</td>\n",
       "      <td>...</td>\n",
       "      <td>...</td>\n",
       "    </tr>\n",
       "    <tr>\n",
       "      <th>395</th>\n",
       "      <td>46</td>\n",
       "      <td>41000</td>\n",
       "      <td>1</td>\n",
       "      <td>1</td>\n",
       "      <td>0</td>\n",
       "    </tr>\n",
       "    <tr>\n",
       "      <th>396</th>\n",
       "      <td>51</td>\n",
       "      <td>23000</td>\n",
       "      <td>1</td>\n",
       "      <td>0</td>\n",
       "      <td>1</td>\n",
       "    </tr>\n",
       "    <tr>\n",
       "      <th>397</th>\n",
       "      <td>50</td>\n",
       "      <td>20000</td>\n",
       "      <td>1</td>\n",
       "      <td>1</td>\n",
       "      <td>0</td>\n",
       "    </tr>\n",
       "    <tr>\n",
       "      <th>398</th>\n",
       "      <td>36</td>\n",
       "      <td>33000</td>\n",
       "      <td>0</td>\n",
       "      <td>0</td>\n",
       "      <td>1</td>\n",
       "    </tr>\n",
       "    <tr>\n",
       "      <th>399</th>\n",
       "      <td>49</td>\n",
       "      <td>36000</td>\n",
       "      <td>1</td>\n",
       "      <td>1</td>\n",
       "      <td>0</td>\n",
       "    </tr>\n",
       "  </tbody>\n",
       "</table>\n",
       "<p>400 rows × 5 columns</p>\n",
       "</div>"
      ],
      "text/plain": [
       "     Age  EstimatedSalary  Purchased  Gender_Female  Gender_Male\n",
       "0     19            19000          0              0            1\n",
       "1     35            20000          0              0            1\n",
       "2     26            43000          0              1            0\n",
       "3     27            57000          0              1            0\n",
       "4     19            76000          0              0            1\n",
       "..   ...              ...        ...            ...          ...\n",
       "395   46            41000          1              1            0\n",
       "396   51            23000          1              0            1\n",
       "397   50            20000          1              1            0\n",
       "398   36            33000          0              0            1\n",
       "399   49            36000          1              1            0\n",
       "\n",
       "[400 rows x 5 columns]"
      ]
     },
     "execution_count": 20,
     "metadata": {},
     "output_type": "execute_result"
    }
   ],
   "source": [
    "data = pd.get_dummies(data)\n",
    "data"
   ]
  },
  {
   "cell_type": "code",
   "execution_count": 21,
   "metadata": {
    "colab": {},
    "colab_type": "code",
    "id": "O0c5ZOTIsMaN"
   },
   "outputs": [],
   "source": [
    "predictions = ['Age' , 'EstimatedSalary' , 'Gender_Female' , 'Gender_Male']\n",
    "\n",
    "X = data[predictions]\n",
    "y = data['Purchased'] "
   ]
  },
  {
   "cell_type": "code",
   "execution_count": 22,
   "metadata": {
    "colab": {},
    "colab_type": "code",
    "id": "91PDwhSnsW0z"
   },
   "outputs": [],
   "source": [
    "X_train, X_test, y_train, y_test = train_test_split(X, y, test_size=0.25, random_state=42)"
   ]
  },
  {
   "cell_type": "code",
   "execution_count": 23,
   "metadata": {
    "colab": {
     "base_uri": "https://localhost:8080/",
     "height": 112
    },
    "colab_type": "code",
    "executionInfo": {
     "elapsed": 1287,
     "status": "ok",
     "timestamp": 1588144106678,
     "user": {
      "displayName": "Gheddi Vijaya",
      "photoUrl": "https://lh3.googleusercontent.com/a-/AOh14Ghol2S8hLLFCaJp9Sze6Xt0m9XCPHLul0f2RCj6QA=s64",
      "userId": "03484244877720654631"
     },
     "user_tz": -420
    },
    "id": "bclyqIbGsgYE",
    "outputId": "383b3f0d-e349-46b5-865a-5d171b2453bb"
   },
   "outputs": [
    {
     "data": {
      "text/plain": [
       "LogisticRegression(C=1.0, class_weight=None, dual=False, fit_intercept=True,\n",
       "                   intercept_scaling=1, l1_ratio=None, max_iter=100,\n",
       "                   multi_class='auto', n_jobs=None, penalty='l2',\n",
       "                   random_state=None, solver='lbfgs', tol=0.0001, verbose=0,\n",
       "                   warm_start=False)"
      ]
     },
     "execution_count": 23,
     "metadata": {},
     "output_type": "execute_result"
    }
   ],
   "source": [
    "from sklearn import linear_model\n",
    "\n",
    "model = linear_model.LogisticRegression()\n",
    "model.fit(X_train, y_train)"
   ]
  },
  {
   "cell_type": "code",
   "execution_count": 24,
   "metadata": {
    "colab": {
     "base_uri": "https://localhost:8080/",
     "height": 36
    },
    "colab_type": "code",
    "executionInfo": {
     "elapsed": 1237,
     "status": "ok",
     "timestamp": 1588144135504,
     "user": {
      "displayName": "Gheddi Vijaya",
      "photoUrl": "https://lh3.googleusercontent.com/a-/AOh14Ghol2S8hLLFCaJp9Sze6Xt0m9XCPHLul0f2RCj6QA=s64",
      "userId": "03484244877720654631"
     },
     "user_tz": -420
    },
    "id": "SoMiZAIrw_mN",
    "outputId": "749e4123-c78e-4ed1-f49e-f4c166390b70"
   },
   "outputs": [
    {
     "data": {
      "text/plain": [
       "0.63"
      ]
     },
     "execution_count": 24,
     "metadata": {},
     "output_type": "execute_result"
    }
   ],
   "source": [
    "model.score(X_test, y_test)"
   ]
  },
  {
   "cell_type": "markdown",
   "metadata": {
    "colab_type": "text",
    "id": "0MuaVrhhg1JF"
   },
   "source": [
    "# **K-Means**"
   ]
  },
  {
   "cell_type": "code",
   "execution_count": 25,
   "metadata": {
    "colab": {},
    "colab_type": "code",
    "id": "gFYbGEcyg3pB"
   },
   "outputs": [],
   "source": [
    "import pandas as pd\n",
    "import matplotlib.pyplot as plt\n",
    "%matplotlib inline\n",
    "import seaborn as sns"
   ]
  },
  {
   "cell_type": "code",
   "execution_count": 26,
   "metadata": {
    "colab": {
     "base_uri": "https://localhost:8080/",
     "height": 142
    },
    "colab_type": "code",
    "executionInfo": {
     "elapsed": 896,
     "status": "ok",
     "timestamp": 1588261493850,
     "user": {
      "displayName": "Buchori Rafsanjani",
      "photoUrl": "https://lh3.googleusercontent.com/a-/AOh14Ghcz8dPafD-2V-RuyCjL1X6vni0dnE9cBVzYYnu=s64",
      "userId": "03014756795319268358"
     },
     "user_tz": -420
    },
    "id": "PWEHI_NohGN3",
    "outputId": "60c67055-dfc7-4ae6-dfa2-d9869902b167"
   },
   "outputs": [
    {
     "data": {
      "text/html": [
       "<div>\n",
       "<style scoped>\n",
       "    .dataframe tbody tr th:only-of-type {\n",
       "        vertical-align: middle;\n",
       "    }\n",
       "\n",
       "    .dataframe tbody tr th {\n",
       "        vertical-align: top;\n",
       "    }\n",
       "\n",
       "    .dataframe thead th {\n",
       "        text-align: right;\n",
       "    }\n",
       "</style>\n",
       "<table border=\"1\" class=\"dataframe\">\n",
       "  <thead>\n",
       "    <tr style=\"text-align: right;\">\n",
       "      <th></th>\n",
       "      <th>CustomerID</th>\n",
       "      <th>Gender</th>\n",
       "      <th>Age</th>\n",
       "      <th>Annual Income (k$)</th>\n",
       "      <th>Spending Score (1-100)</th>\n",
       "    </tr>\n",
       "  </thead>\n",
       "  <tbody>\n",
       "    <tr>\n",
       "      <th>0</th>\n",
       "      <td>1</td>\n",
       "      <td>Male</td>\n",
       "      <td>19</td>\n",
       "      <td>15</td>\n",
       "      <td>39</td>\n",
       "    </tr>\n",
       "    <tr>\n",
       "      <th>1</th>\n",
       "      <td>2</td>\n",
       "      <td>Male</td>\n",
       "      <td>21</td>\n",
       "      <td>15</td>\n",
       "      <td>81</td>\n",
       "    </tr>\n",
       "    <tr>\n",
       "      <th>2</th>\n",
       "      <td>3</td>\n",
       "      <td>Female</td>\n",
       "      <td>20</td>\n",
       "      <td>16</td>\n",
       "      <td>6</td>\n",
       "    </tr>\n",
       "  </tbody>\n",
       "</table>\n",
       "</div>"
      ],
      "text/plain": [
       "   CustomerID  Gender  Age  Annual Income (k$)  Spending Score (1-100)\n",
       "0           1    Male   19                  15                      39\n",
       "1           2    Male   21                  15                      81\n",
       "2           3  Female   20                  16                       6"
      ]
     },
     "execution_count": 26,
     "metadata": {},
     "output_type": "execute_result"
    }
   ],
   "source": [
    "#ubah file csv menjadi dataframe\n",
    "df = pd.read_csv('Mall_Customers.csv')\n",
    "\n",
    "# tammpilkan 3 baris pertama\n",
    "df.head(3)"
   ]
  },
  {
   "cell_type": "code",
   "execution_count": 27,
   "metadata": {
    "colab": {
     "base_uri": "https://localhost:8080/",
     "height": 142
    },
    "colab_type": "code",
    "executionInfo": {
     "elapsed": 859,
     "status": "ok",
     "timestamp": 1588261710914,
     "user": {
      "displayName": "Buchori Rafsanjani",
      "photoUrl": "https://lh3.googleusercontent.com/a-/AOh14Ghcz8dPafD-2V-RuyCjL1X6vni0dnE9cBVzYYnu=s64",
      "userId": "03014756795319268358"
     },
     "user_tz": -420
    },
    "id": "0uqhWTHGhGDd",
    "outputId": "8272c767-21cb-4c28-8f84-0188609d1542"
   },
   "outputs": [
    {
     "data": {
      "text/html": [
       "<div>\n",
       "<style scoped>\n",
       "    .dataframe tbody tr th:only-of-type {\n",
       "        vertical-align: middle;\n",
       "    }\n",
       "\n",
       "    .dataframe tbody tr th {\n",
       "        vertical-align: top;\n",
       "    }\n",
       "\n",
       "    .dataframe thead th {\n",
       "        text-align: right;\n",
       "    }\n",
       "</style>\n",
       "<table border=\"1\" class=\"dataframe\">\n",
       "  <thead>\n",
       "    <tr style=\"text-align: right;\">\n",
       "      <th></th>\n",
       "      <th>CustomerID</th>\n",
       "      <th>gender</th>\n",
       "      <th>age</th>\n",
       "      <th>annual_income</th>\n",
       "      <th>spending_score</th>\n",
       "    </tr>\n",
       "  </thead>\n",
       "  <tbody>\n",
       "    <tr>\n",
       "      <th>0</th>\n",
       "      <td>1</td>\n",
       "      <td>1</td>\n",
       "      <td>19</td>\n",
       "      <td>15</td>\n",
       "      <td>39</td>\n",
       "    </tr>\n",
       "    <tr>\n",
       "      <th>1</th>\n",
       "      <td>2</td>\n",
       "      <td>1</td>\n",
       "      <td>21</td>\n",
       "      <td>15</td>\n",
       "      <td>81</td>\n",
       "    </tr>\n",
       "    <tr>\n",
       "      <th>2</th>\n",
       "      <td>3</td>\n",
       "      <td>0</td>\n",
       "      <td>20</td>\n",
       "      <td>16</td>\n",
       "      <td>6</td>\n",
       "    </tr>\n",
       "  </tbody>\n",
       "</table>\n",
       "</div>"
      ],
      "text/plain": [
       "   CustomerID  gender  age  annual_income  spending_score\n",
       "0           1       1   19             15              39\n",
       "1           2       1   21             15              81\n",
       "2           3       0   20             16               6"
      ]
     },
     "execution_count": 27,
     "metadata": {},
     "output_type": "execute_result"
    }
   ],
   "source": [
    "# ubah namma kolom\n",
    "df = df.rename(columns={'Gender': 'gender', 'Age': 'age',\n",
    "                        'Annual Income (k$)': 'annual_income',\n",
    "                        'Spending Score (1-100)': 'spending_score'})\n",
    "\n",
    "# ubah data kategorik mmenjadi data numerik\n",
    "df['gender'].replace(['Female', 'Male'], [0,1], inplace=True)\n",
    "\n",
    "# tampilkan data yang sudah di preprocess\n",
    "df.head(3)"
   ]
  },
  {
   "cell_type": "code",
   "execution_count": 28,
   "metadata": {
    "colab": {},
    "colab_type": "code",
    "id": "zqGshcQ_it6l"
   },
   "outputs": [],
   "source": [
    "from sklearn.cluster import KMeans\n",
    "\n",
    "# menghilangkan kolom customer id dan gender\n",
    "X = df.drop(['CustomerID', 'gender'], axis=1)\n",
    "\n",
    "#membuat list yang berisi inertia\n",
    "clusters = []\n",
    "for i in range(1,11):\n",
    "  km = KMeans(n_clusters=i).fit(X)\n",
    "  clusters.append(km.inertia_)"
   ]
  },
  {
   "cell_type": "code",
   "execution_count": 29,
   "metadata": {
    "colab": {
     "base_uri": "https://localhost:8080/",
     "height": 312
    },
    "colab_type": "code",
    "executionInfo": {
     "elapsed": 968,
     "status": "ok",
     "timestamp": 1588261923280,
     "user": {
      "displayName": "Buchori Rafsanjani",
      "photoUrl": "https://lh3.googleusercontent.com/a-/AOh14Ghcz8dPafD-2V-RuyCjL1X6vni0dnE9cBVzYYnu=s64",
      "userId": "03014756795319268358"
     },
     "user_tz": -420
    },
    "id": "_i6jR8pijL-A",
    "outputId": "aaf18cac-4dbb-45c4-fd6c-5a1793dc1eb6"
   },
   "outputs": [
    {
     "data": {
      "text/plain": [
       "Text(0, 0.5, 'Inertia')"
      ]
     },
     "execution_count": 29,
     "metadata": {},
     "output_type": "execute_result"
    },
    {
     "data": {
      "image/png": "[encoded data removed]",
      "text/plain": [
       "<Figure size 576x288 with 1 Axes>"
      ]
     },
     "metadata": {
      "needs_background": "light"
     },
     "output_type": "display_data"
    }
   ],
   "source": [
    "# membuat plot inertia\n",
    "fig, ax = plt.subplots(figsize=(8, 4))\n",
    "sns.lineplot(x=list(range(1, 11)), y=clusters, ax=ax)\n",
    "ax.set_title('Cari Elbow')\n",
    "ax.set_xlabel('Clusters')\n",
    "ax.set_ylabel('Inertia')"
   ]
  },
  {
   "cell_type": "code",
   "execution_count": 30,
   "metadata": {
    "colab": {
     "base_uri": "https://localhost:8080/",
     "height": 296
    },
    "colab_type": "code",
    "executionInfo": {
     "elapsed": 1146,
     "status": "ok",
     "timestamp": 1588262042585,
     "user": {
      "displayName": "Buchori Rafsanjani",
      "photoUrl": "https://lh3.googleusercontent.com/a-/AOh14Ghcz8dPafD-2V-RuyCjL1X6vni0dnE9cBVzYYnu=s64",
      "userId": "03014756795319268358"
     },
     "user_tz": -420
    },
    "id": "CTMZbMipkBlm",
    "outputId": "a6a058f3-96b5-4c95-c2db-ee5bce225949"
   },
   "outputs": [
    {
     "data": {
      "image/png": "[encoded data removed]",
      "text/plain": [
       "<Figure size 576x288 with 1 Axes>"
      ]
     },
     "metadata": {
      "needs_background": "light"
     },
     "output_type": "display_data"
    }
   ],
   "source": [
    "# membuat objek KMeans\n",
    "km5 = KMeans(n_clusters=5).fit(X)\n",
    "\n",
    "# menambahkan kolom label pada dataset\n",
    "X['Labels'] = km5.labels_\n",
    "\n",
    "# membuat plot KMeans dengan 5 klaster\n",
    "plt.figure(figsize=(8,4))\n",
    "sns.scatterplot(X['annual_income'], X['spending_score'], hue=X['Labels'],\n",
    "                palette=sns.color_palette('hls', 5))\n",
    "plt.title('KMeans dengan 5 Cluster')\n",
    "plt.show()"
   ]
  },
  {
   "cell_type": "markdown",
   "metadata": {
    "colab_type": "text",
    "id": "2VplSZYvl6l3"
   },
   "source": [
    "# **PCA**"
   ]
  },
  {
   "cell_type": "code",
   "execution_count": 39,
   "metadata": {
    "colab": {},
    "colab_type": "code",
    "id": "ZKAl-SnYl9fZ"
   },
   "outputs": [],
   "source": [
    "from sklearn.decomposition import PCA\n",
    "from sklearn.model_selection import train_test_split\n",
    "from sklearn import datasets"
   ]
  },
  {
   "cell_type": "code",
   "execution_count": 40,
   "metadata": {
    "colab": {},
    "colab_type": "code",
    "id": "C6MIlVktnEXY"
   },
   "outputs": [],
   "source": [
    "iris = datasets.load_iris()\n",
    "atribut = iris.data\n",
    "label = iris.target\n",
    "\n",
    "# bagi dataset menjadi train set dan test set\n",
    "X_train, X_test, y_train, y_test = train_test_split(\n",
    "    atribut, label, test_size=0.2)"
   ]
  },
  {
   "cell_type": "code",
   "execution_count": 45,
   "metadata": {
    "colab": {
     "base_uri": "https://localhost:8080/",
     "height": 34
    },
    "colab_type": "code",
    "executionInfo": {
     "elapsed": 3172,
     "status": "ok",
     "timestamp": 1588262337304,
     "user": {
      "displayName": "Buchori Rafsanjani",
      "photoUrl": "https://lh3.googleusercontent.com/a-/AOh14Ghcz8dPafD-2V-RuyCjL1X6vni0dnE9cBVzYYnu=s64",
      "userId": "03014756795319268358"
     },
     "user_tz": -420
    },
    "id": "nRWla7yBnuoX",
    "outputId": "246cd51b-27c9-43a0-93cf-62d89e6f5dc1"
   },
   "outputs": [
    {
     "data": {
      "text/plain": [
       "0.9333333333333333"
      ]
     },
     "execution_count": 45,
     "metadata": {},
     "output_type": "execute_result"
    }
   ],
   "source": [
    "from sklearn import tree\n",
    "decision_tree = tree.DecisionTreeClassifier()\n",
    "\n",
    "model_pertama = decision_tree.fit(X_train, y_train)\n",
    "model_pertama.score(X_test, y_test)"
   ]
  },
  {
   "cell_type": "code",
   "execution_count": 46,
   "metadata": {
    "colab": {
     "base_uri": "https://localhost:8080/",
     "height": 34
    },
    "colab_type": "code",
    "executionInfo": {
     "elapsed": 881,
     "status": "ok",
     "timestamp": 1588262632868,
     "user": {
      "displayName": "Buchori Rafsanjani",
      "photoUrl": "https://lh3.googleusercontent.com/a-/AOh14Ghcz8dPafD-2V-RuyCjL1X6vni0dnE9cBVzYYnu=s64",
      "userId": "03014756795319268358"
     },
     "user_tz": -420
    },
    "id": "c4fHypCeoYsT",
    "outputId": "7522474b-c502-4597-ab28-d34cf3e9fcac"
   },
   "outputs": [
    {
     "data": {
      "text/plain": [
       "array([0.93015802, 0.04820858, 0.01685737, 0.00477603])"
      ]
     },
     "execution_count": 46,
     "metadata": {},
     "output_type": "execute_result"
    }
   ],
   "source": [
    "# membuat objek PCA dengan 4 principal component\n",
    "pca = PCA(n_components=4)\n",
    "\n",
    "# mengaplikasikan PCA pada dataset\n",
    "pca_attributes = pca.fit_transform(X_train)\n",
    "# melihat variance dari setiap atribut\n",
    "pca.explained_variance_ratio_"
   ]
  },
  {
   "cell_type": "code",
   "execution_count": 47,
   "metadata": {
    "colab": {},
    "colab_type": "code",
    "id": "3SR9NeAfo1ns"
   },
   "outputs": [],
   "source": [
    "pca = PCA(n_components = 2)\n",
    "X_train_pca = pca.fit_transform(X_train)\n",
    "X_test_pca = pca.fit_transform(X_test)"
   ]
  },
  {
   "cell_type": "code",
   "execution_count": 48,
   "metadata": {
    "colab": {
     "base_uri": "https://localhost:8080/",
     "height": 34
    },
    "colab_type": "code",
    "executionInfo": {
     "elapsed": 1074,
     "status": "ok",
     "timestamp": 1588263000217,
     "user": {
      "displayName": "Buchori Rafsanjani",
      "photoUrl": "https://lh3.googleusercontent.com/a-/AOh14Ghcz8dPafD-2V-RuyCjL1X6vni0dnE9cBVzYYnu=s64",
      "userId": "03014756795319268358"
     },
     "user_tz": -420
    },
    "id": "1hLQy7SIpRy7",
    "outputId": "42426e5b-e4c4-424e-c69e-c0bc8a33cde6"
   },
   "outputs": [
    {
     "data": {
      "text/plain": [
       "0.36666666666666664"
      ]
     },
     "execution_count": 48,
     "metadata": {},
     "output_type": "execute_result"
    }
   ],
   "source": [
    "model2 = decision_tree.fit(X_train_pca, y_train)\n",
    "model2.score(X_test_pca, y_test)"
   ]
  },
  {
   "cell_type": "code",
   "execution_count": null,
   "metadata": {},
   "outputs": [],
   "source": []
  }
 ],
 "metadata": {
  "colab": {
   "name": "Modul 2.ipynb",
   "provenance": [],
   "toc_visible": true
  },
  "kernelspec": {
   "display_name": "Python 3",
   "language": "python",
   "name": "python3"
  },
  "language_info": {
   "codemirror_mode": {
    "name": "ipython",
    "version": 3
   },
   "file_extension": ".py",
   "mimetype": "text/x-python",
   "name": "python",
   "nbconvert_exporter": "python",
   "pygments_lexer": "ipython3",
   "version": "3.7.6"
  }
 },
 "nbformat": 4,
 "nbformat_minor": 1
}
